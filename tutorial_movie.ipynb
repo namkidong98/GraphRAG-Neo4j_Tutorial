{
 "cells": [
  {
   "cell_type": "code",
   "execution_count": 2,
   "metadata": {},
   "outputs": [],
   "source": [
    "from neo4j import GraphDatabase, basic_auth\n",
    "\n",
    "driver = GraphDatabase.driver(\n",
    "    \"bolt://localhost:7687\",\n",
    "    auth=basic_auth(user=\"neo4j\", password=\"neo4j1234\")\n",
    ")"
   ]
  },
  {
   "cell_type": "code",
   "execution_count": 5,
   "metadata": {},
   "outputs": [
    {
     "name": "stderr",
     "output_type": "stream",
     "text": [
      "C:\\Users\\kidong\\AppData\\Local\\Temp\\ipykernel_12460\\2225431544.py:6: DeprecationWarning: Using a driver after it has been closed is deprecated. Future versions of the driver will raise an error.\n",
      "  with driver.session(database=\"neo4j\") as session:\n"
     ]
    },
    {
     "name": "stdout",
     "output_type": "stream",
     "text": [
      "Cloud Atlas\n",
      "V for Vendetta\n",
      "The Matrix Revolutions\n",
      "The Matrix Reloaded\n",
      "The Replacements\n",
      "Johnny Mnemonic\n",
      "Something's Gotta Give\n",
      "The Devil's Advocate\n"
     ]
    }
   ],
   "source": [
    "# 사용자가 좋아하는 영화($favorite)을 찾고 그 영화에 출연한 배우(actor)가 출연한 다른 영화(rec)을 중복없이 10개 나열\n",
    "cypher_query = '''\n",
    "MATCH (movie:Movie {title:$favorite})<-[:ACTED_IN]-(actor)-[:ACTED_IN]->(rec:Movie)\n",
    "RETURN distinct rec.title as title LIMIT 10\n",
    "'''\n",
    "\n",
    "with driver.session(database=\"neo4j\") as session:\n",
    "    results = session.execute_read( # 읽기 전용의 트랜잭선 실행\n",
    "        lambda tx: tx.run(cypher_query, favorite=\"The Matrix\").data())\n",
    "    for record in results:\n",
    "        print(record['title'])"
   ]
  },
  {
   "cell_type": "code",
   "execution_count": 10,
   "metadata": {},
   "outputs": [],
   "source": [
    "from neo4j import GraphDatabase\n",
    "driver = GraphDatabase.driver(\n",
    "    \"bolt://localhost:7687\",\n",
    "    auth=basic_auth(user=\"neo4j\", password=\"neo4j1234\")\n",
    ")"
   ]
  },
  {
   "cell_type": "code",
   "execution_count": 14,
   "metadata": {},
   "outputs": [
    {
     "name": "stdout",
     "output_type": "stream",
     "text": [
      "EagerResult(records=[<Record p.name='Val Kilmer'>, <Record p.name='Meg Ryan'>, <Record p.name='Tom Skerritt'>, <Record p.name='Kelly McGillis'>, <Record p.name='Tom Cruise'>, <Record p.name='Anthony Edwards'>], summary=<neo4j._work.summary.ResultSummary object at 0x0000011D8AC66C20>, keys=['p.name'])\n"
     ]
    }
   ],
   "source": [
    "# Movie의 타이틀이 'Top Gun'인 Movie(m)에 출연한 사람(p)의 이름(p.name)을 출력\n",
    "result = driver.execute_query('''\n",
    "MATCH (p:Person)-[:ACTED_IN]->(m:Movie)\n",
    "WHERE m.title = 'Top Gun'\n",
    "RETURN p.name\n",
    "''')\n",
    "print(result) # records 리스트로 반환된 구조"
   ]
  },
  {
   "cell_type": "code",
   "execution_count": 13,
   "metadata": {},
   "outputs": [
    {
     "name": "stdout",
     "output_type": "stream",
     "text": [
      "Val Kilmer\n",
      "Meg Ryan\n",
      "Tom Skerritt\n",
      "Kelly McGillis\n",
      "Tom Cruise\n",
      "Anthony Edwards\n"
     ]
    }
   ],
   "source": [
    "for record in result.records:\n",
    "    print(record[\"p.name\"])"
   ]
  },
  {
   "cell_type": "code",
   "execution_count": 23,
   "metadata": {},
   "outputs": [],
   "source": [
    "from langchain_community.graphs.neo4j_graph import Neo4jGraph\n",
    "from langchain.chains import GraphCypherQAChain\n",
    "from langchain.prompts import PromptTemplate\n",
    "from langchain_openai import ChatOpenAI\n",
    "import os\n",
    "from dotenv import load_dotenv\n",
    "load_dotenv()\n",
    "OPENAI_API_KEY = os.getenv(\"OPENAI_API_KEY\")\n",
    "\n",
    "CYPHER_GENERATION_TEMPLATE = \"\"\"Task:Generate Cypher statement to query a graph database.\n",
    "Instructions:\n",
    "Use only the provided relationship types and properties in the schema.\n",
    "Do not use any other relationship types or properties that are not provided.\n",
    "Schema:\n",
    "{schema}\n",
    "Note: Do not include any explanations or apologies in your responses.\n",
    "Do not respond to any questions that might ask anything else than for you to construct a Cypher statement.\n",
    "Do not include any text except the generated Cypher statement.\n",
    "\n",
    "The question is:\n",
    "{question}\"\"\"\n",
    "CYPHER_GENERATION_PROMPT = PromptTemplate(\n",
    "    input_variables=[\"schema\", \"question\"], template=CYPHER_GENERATION_TEMPLATE\n",
    ")"
   ]
  },
  {
   "cell_type": "code",
   "execution_count": 24,
   "metadata": {},
   "outputs": [],
   "source": [
    "CYPHER_QA_TEMPLATE = \"\"\"You are an assistant that helps to form nice and human understandable answers.\n",
    "The information part contains the provided information that you must use to construct an answer.\n",
    "The provided information is authoritative, you must never doubt it or try to use your internal knowledge to correct it.\n",
    "Make the answer sound as a response to the question. Do not mention that you based the result on the given information.\n",
    "Here is an example:\n",
    "\n",
    "Question: Which managers own Neo4j stocks?\n",
    "Context:[manager:CTL LLC, manager:JANE STREET GROUP LLC]\n",
    "Helpful Answer: CTL LLC, JANE STREET GROUP LLC owns Neo4j stocks.\n",
    "\n",
    "Follow this example when generating answers.\n",
    "If the provided information is empty, say that you don't know the answer.\n",
    "Information:\n",
    "{context}\n",
    "\n",
    "Question: {question}\n",
    "Helpful Answer:\"\"\"\n",
    "CYPHER_QA_PROMPT = PromptTemplate(\n",
    "    input_variables=[\"context\", \"question\"], template=CYPHER_QA_TEMPLATE\n",
    ")"
   ]
  },
  {
   "cell_type": "code",
   "execution_count": 29,
   "metadata": {},
   "outputs": [],
   "source": [
    "graph = Neo4jGraph(url=\"bolt://localhost:7687\", username='neo4j', password='neo4j1234')"
   ]
  },
  {
   "cell_type": "code",
   "execution_count": 30,
   "metadata": {},
   "outputs": [],
   "source": [
    "chain = GraphCypherQAChain.from_llm(\n",
    "    ChatOpenAI(temperature=0, openai_api_key=OPENAI_API_KEY),\n",
    "    graph=graph,\n",
    "    verbose=True\n",
    ")"
   ]
  },
  {
   "cell_type": "code",
   "execution_count": 31,
   "metadata": {},
   "outputs": [
    {
     "name": "stderr",
     "output_type": "stream",
     "text": [
      "C:\\Users\\kidong\\AppData\\Local\\Temp\\ipykernel_12460\\1697278274.py:1: LangChainDeprecationWarning: The method `Chain.run` was deprecated in langchain 0.1.0 and will be removed in 1.0. Use invoke instead.\n",
      "  chain.run(\"Who played in Top Gun?\")\n"
     ]
    },
    {
     "name": "stdout",
     "output_type": "stream",
     "text": [
      "\n",
      "\n",
      "\u001b[1m> Entering new GraphCypherQAChain chain...\u001b[0m\n",
      "Generated Cypher:\n",
      "\u001b[32;1m\u001b[1;3mMATCH (p:Person)-[r:ACTED_IN]->(m:Movie)\n",
      "WHERE m.title = 'Top Gun'\n",
      "RETURN p.name\u001b[0m\n",
      "Full Context:\n",
      "\u001b[32;1m\u001b[1;3m[{'p.name': 'Val Kilmer'}, {'p.name': 'Meg Ryan'}, {'p.name': 'Tom Skerritt'}, {'p.name': 'Kelly McGillis'}, {'p.name': 'Tom Cruise'}, {'p.name': 'Anthony Edwards'}]\u001b[0m\n",
      "\n",
      "\u001b[1m> Finished chain.\u001b[0m\n"
     ]
    },
    {
     "data": {
      "text/plain": [
       "'Val Kilmer, Meg Ryan, Tom Skerritt, Kelly McGillis, Tom Cruise, Anthony Edwards played in Top Gun.'"
      ]
     },
     "execution_count": 31,
     "metadata": {},
     "output_type": "execute_result"
    }
   ],
   "source": [
    "chain.run(\"Who played in Top Gun?\")"
   ]
  },
  {
   "cell_type": "code",
   "execution_count": 32,
   "metadata": {},
   "outputs": [
    {
     "name": "stdout",
     "output_type": "stream",
     "text": [
      "\n",
      "\n",
      "\u001b[1m> Entering new GraphCypherQAChain chain...\u001b[0m\n",
      "Generated Cypher:\n",
      "\u001b[32;1m\u001b[1;3mMATCH (:Person)-[r:ACTED_IN]->(:Movie {title: 'Top Gun'})\n",
      "RETURN COUNT(r)\u001b[0m\n",
      "Full Context:\n",
      "\u001b[32;1m\u001b[1;3m[{'COUNT(r)': 6}]\u001b[0m\n",
      "\n",
      "\u001b[1m> Finished chain.\u001b[0m\n"
     ]
    },
    {
     "data": {
      "text/plain": [
       "'6 people played in Top Gun.'"
      ]
     },
     "execution_count": 32,
     "metadata": {},
     "output_type": "execute_result"
    }
   ],
   "source": [
    "chain.run(\"How many people played in Top Gun?\")"
   ]
  }
 ],
 "metadata": {
  "kernelspec": {
   "display_name": "neo4j",
   "language": "python",
   "name": "python3"
  },
  "language_info": {
   "codemirror_mode": {
    "name": "ipython",
    "version": 3
   },
   "file_extension": ".py",
   "mimetype": "text/x-python",
   "name": "python",
   "nbconvert_exporter": "python",
   "pygments_lexer": "ipython3",
   "version": "3.10.14"
  }
 },
 "nbformat": 4,
 "nbformat_minor": 2
}
